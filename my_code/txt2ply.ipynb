{
 "cells": [
  {
   "cell_type": "code",
   "execution_count": 1,
   "metadata": {},
   "outputs": [
    {
     "name": "stdout",
     "output_type": "stream",
     "text": [
      "PLY文件已保存为 factory.ply\n"
     ]
    }
   ],
   "source": [
    "# 假设txt文件路径为\"coordinates.txt\"\n",
    "txt_file = \"D:/docker_test/catkin_ws/map.txt\"\n",
    "ply_file = 'factory.ply'\n",
    "\n",
    "# 读取txt文件中的数据\n",
    "coordinates = []\n",
    "with open(txt_file, 'r') as file:\n",
    "    lines = file.readlines()\n",
    "    for i in range(0, len(lines), 4):  # 每组数据占4行 (x, y, z)\n",
    "        x = float(lines[i].strip().split(':')[1])\n",
    "        y = float(lines[i + 1].strip().split(':')[1])\n",
    "        z = float(lines[i + 2].strip().split(':')[1])\n",
    "        coordinates.append([x, y, z])\n",
    "\n",
    "# 写入PLY格式文件\n",
    "with open(ply_file, 'w') as ply:\n",
    "    ply.write(\"ply\\n\")\n",
    "    ply.write(\"format ascii 1.0\\n\")\n",
    "    ply.write(f\"element vertex {len(coordinates)}\\n\")\n",
    "    ply.write(\"property float x\\n\")\n",
    "    ply.write(\"property float y\\n\")\n",
    "    ply.write(\"property float z\\n\")\n",
    "    ply.write(\"end_header\\n\")\n",
    "    \n",
    "    for coord in coordinates:\n",
    "        ply.write(f\"{coord[0]} {coord[1]} {coord[2]}\\n\")\n",
    "\n",
    "print(f\"PLY文件已保存为 {ply_file}\")\n"
   ]
  }
 ],
 "metadata": {
  "kernelspec": {
   "display_name": "base",
   "language": "python",
   "name": "python3"
  },
  "language_info": {
   "codemirror_mode": {
    "name": "ipython",
    "version": 3
   },
   "file_extension": ".py",
   "mimetype": "text/x-python",
   "name": "python",
   "nbconvert_exporter": "python",
   "pygments_lexer": "ipython3",
   "version": "3.12.3"
  }
 },
 "nbformat": 4,
 "nbformat_minor": 2
}
