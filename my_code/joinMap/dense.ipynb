{
 "cells": [
  {
   "cell_type": "code",
   "execution_count": 1,
   "metadata": {},
   "outputs": [
    {
     "name": "stdout",
     "output_type": "stream",
     "text": [
      "Jupyter environment detected. Enabling Open3D WebVisualizer.\n",
      "[Open3D INFO] WebRTC GUI backend enabled.\n",
      "[Open3D INFO] WebRTCWindowSystem: HTTP handshake server disabled.\n",
      "生成的网格顶点数: 98284\n",
      "稠密点云已保存为 dense.ply\n"
     ]
    }
   ],
   "source": [
    "import open3d as o3d\n",
    "import numpy as np\n",
    "\n",
    "# 1. 加载稀疏点云 (假设文件名为 sparse.ply)\n",
    "pcd = o3d.io.read_point_cloud(\"D:/docker_test/catkin_ws/src/AirSlam/my_code/new_factory.ply\")\n",
    "\n",
    "# 2. 估计法线（后续的表面重建需要法线信息）\n",
    "pcd.estimate_normals(search_param=o3d.geometry.KDTreeSearchParamHybrid(radius=0.1, max_nn=30))\n",
    "pcd.orient_normals_consistent_tangent_plane(30)\n",
    "\n",
    "# 3. 使用 Poisson 重建生成网格\n",
    "# depth 参数决定重建的细节层次，根据数据情况调整\n",
    "mesh, densities = o3d.geometry.TriangleMesh.create_from_point_cloud_poisson(pcd, depth=9)\n",
    "print(\"生成的网格顶点数:\", np.asarray(mesh.vertices).shape[0])\n",
    "\n",
    "# 4. 可选：通过密度过滤去除低质量区域\n",
    "densities = np.asarray(densities)\n",
    "density_threshold = np.quantile(densities, 0.1)  # 保留密度较高的 90% 顶点\n",
    "vertices_to_remove = densities < density_threshold\n",
    "mesh.remove_vertices_by_mask(vertices_to_remove)\n",
    "\n",
    "# 5. 从网格中采样生成稠密点云（可指定采样点数）\n",
    "dense_pcd = mesh.sample_points_poisson_disk(number_of_points=100000)\n",
    "o3d.io.write_point_cloud(\"dense.ply\", dense_pcd)\n",
    "\n",
    "print(\"稠密点云已保存为 dense.ply\")\n"
   ]
  }
 ],
 "metadata": {
  "kernelspec": {
   "display_name": "base",
   "language": "python",
   "name": "python3"
  },
  "language_info": {
   "codemirror_mode": {
    "name": "ipython",
    "version": 3
   },
   "file_extension": ".py",
   "mimetype": "text/x-python",
   "name": "python",
   "nbconvert_exporter": "python",
   "pygments_lexer": "ipython3",
   "version": "3.12.3"
  }
 },
 "nbformat": 4,
 "nbformat_minor": 2
}
