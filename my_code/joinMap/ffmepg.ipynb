{
 "cells": [
  {
   "cell_type": "code",
   "execution_count": 4,
   "metadata": {},
   "outputs": [],
   "source": [
    "import os\n",
    "import subprocess\n",
    "\n",
    "def extract_frames_from_video(video_path, output_folder, frame_rate=2,start_index=1064):\n",
    "    \"\"\"\n",
    "    使用 ffmpeg 提取视频中的帧并保存为图像文件。\n",
    "    \n",
    "    :param video_path: 视频文件路径\n",
    "    :param output_folder: 输出图像文件夹路径\n",
    "    :param frame_rate: 提取帧的频率（每秒提取的帧数）\n",
    "    \"\"\"\n",
    "    # 确保输出文件夹存在\n",
    "    if not os.path.exists(output_folder):\n",
    "        os.makedirs(output_folder) \n",
    "    \n",
    "    # 构造 ffmpeg 命令\n",
    "    command = [\n",
    "        'ffmpeg',\n",
    "        '-i', video_path,\n",
    "        '-vf', f\"fps={frame_rate},scale=-1:-1\",\n",
    "        '-start_number', str(start_index),\n",
    "        '-q:v', '1',\n",
    "        os.path.join(output_folder, '%d.jpg')\n",
    "    ]\n",
    "    \n",
    "    # 执行命令\n",
    "    try:\n",
    "        subprocess.run(command, check=True)\n",
    "    except subprocess.CalledProcessError as e:\n",
    "        print(f\"Error running ffmpeg: {e}\")\n",
    "        raise\n",
    "\n",
    "# 设置视频文件路径和输出文件夹路径\n",
    "video_path = \"C:/Users/JG/Pictures/room/2025_01_26_13_49_04.mp4\"\n",
    "output_folder = \"C:/Users/JG/Pictures/room/room\"\n",
    "\n",
    "# 调用函数\n",
    "extract_frames_from_video(video_path, output_folder, frame_rate=20,start_index=1)"
   ]
  }
 ],
 "metadata": {
  "kernelspec": {
   "display_name": "base",
   "language": "python",
   "name": "python3"
  },
  "language_info": {
   "codemirror_mode": {
    "name": "ipython",
    "version": 3
   },
   "file_extension": ".py",
   "mimetype": "text/x-python",
   "name": "python",
   "nbconvert_exporter": "python",
   "pygments_lexer": "ipython3",
   "version": "3.12.7"
  }
 },
 "nbformat": 4,
 "nbformat_minor": 2
}
