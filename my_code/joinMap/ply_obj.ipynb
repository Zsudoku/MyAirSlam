{
 "cells": [
  {
   "cell_type": "code",
   "execution_count": 1,
   "metadata": {},
   "outputs": [
    {
     "name": "stdout",
     "output_type": "stream",
     "text": [
      "Jupyter environment detected. Enabling Open3D WebVisualizer.\n",
      "[Open3D INFO] WebRTC GUI backend enabled.\n",
      "[Open3D INFO] WebRTCWindowSystem: HTTP handshake server disabled.\n"
     ]
    },
    {
     "data": {
      "text/plain": [
       "True"
      ]
     },
     "execution_count": 1,
     "metadata": {},
     "output_type": "execute_result"
    }
   ],
   "source": [
    "import open3d as o3d\n",
    "import numpy as np\n",
    "\n",
    "# 1. 读取 PLY 文件\n",
    "pcd = o3d.io.read_point_cloud(\"dense.ply\")\n",
    "\n",
    "# 2. 如果点云没有法向量，先估计法向量\n",
    "pcd.estimate_normals(\n",
    "    search_param=o3d.geometry.KDTreeSearchParamHybrid(radius=0.1, max_nn=30)\n",
    ")\n",
    "# 也可对法向量进行方向统一\n",
    "pcd.orient_normals_consistent_tangent_plane(100)\n",
    "\n",
    "# 3. 利用泊松重建生成三角网格\n",
    "mesh, densities = o3d.geometry.TriangleMesh.create_from_point_cloud_poisson(pcd, depth=8)\n",
    "# 可选：根据密度过滤掉低密度区域（有助于去除噪点和修剪边缘）\n",
    "density_threshold = np.quantile(densities, 0.2)\n",
    "vertices_to_remove = densities < density_threshold\n",
    "mesh.remove_vertices_by_mask(vertices_to_remove)\n",
    "\n",
    "# 4. 保存为 OBJ 文件（Unity 能直接导入 OBJ 格式）\n",
    "o3d.io.write_triangle_mesh(\"output.obj\", mesh)\n"
   ]
  },
  {
   "cell_type": "code",
   "execution_count": 2,
   "metadata": {},
   "outputs": [],
   "source": [
    "# docker run -it --env DISPLAY=192.168.0.230:0.0  --privileged --runtime nvidia --gpus all --volume D:/sam_docker:/workspace --workdir /workspace --name sam_ubuntu my_sam /bin/bash\n"
   ]
  }
 ],
 "metadata": {
  "kernelspec": {
   "display_name": "base",
   "language": "python",
   "name": "python3"
  },
  "language_info": {
   "codemirror_mode": {
    "name": "ipython",
    "version": 3
   },
   "file_extension": ".py",
   "mimetype": "text/x-python",
   "name": "python",
   "nbconvert_exporter": "python",
   "pygments_lexer": "ipython3",
   "version": "3.12.3"
  }
 },
 "nbformat": 4,
 "nbformat_minor": 2
}
